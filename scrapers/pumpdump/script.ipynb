{
 "cells": [
  {
   "cell_type": "code",
   "execution_count": 2,
   "metadata": {},
   "outputs": [],
   "source": [
    "\"\"\"\n",
    "This script scrapes the data offered by the Cryptocurrency Pump & Dump\n",
    "developed by CoinCheckup.\n",
    "\"\"\"\n",
    "\n",
    "__author__ = 'Georgios Goniotakis'\n",
    "__email__ = 'georgios.goniotakis@outlook.com'\n",
    "__license__ = 'MIT'\n",
    "__date__ = 'August 13, 2018'\n",
    "__version__ = '1.0'"
   ]
  },
  {
   "cell_type": "code",
   "execution_count": 1,
   "metadata": {},
   "outputs": [],
   "source": [
    "import os\n",
    "import time\n",
    "\n",
    "import csv\n",
    "import requests\n",
    "import pandas as pd\n",
    "\n",
    "from bs4 import BeautifulSoup"
   ]
  },
  {
   "cell_type": "code",
   "execution_count": 4,
   "metadata": {},
   "outputs": [],
   "source": [
    "FILE_PATH = \"data.csv\" # File path to export file\n",
    "COIN_URL = \"https://pumpdump.coincheckup.com/page/\" # URL to retrieve info\n",
    "N_PAGES = 15 # Number of pages to export default: 15 (1-15)"
   ]
  },
  {
   "cell_type": "code",
   "execution_count": 5,
   "metadata": {},
   "outputs": [],
   "source": [
    "def create_file():\n",
    "    \"\"\"\n",
    "    Creates the file into the disk\n",
    "    \"\"\"\n",
    "    clear_file()\n",
    "    labels = [\"Cryptocurrency\", \"Pump % Gain\", \"Timeframe\", \"Start time\", \"Start price: BTC\", \"Start price: USD\",\n",
    "              \"End price: BTC\", \"End price: USD\", \"Publishing time (GMT +2)\"]\n",
    "    \n",
    "    with open(FILE_PATH, 'w') as file:\n",
    "        wf = csv.writer(file, quoting=csv.QUOTE_ALL)\n",
    "        wf.writerow(labels)"
   ]
  },
  {
   "cell_type": "code",
   "execution_count": 1,
   "metadata": {},
   "outputs": [],
   "source": [
    "def write_file(data):\n",
    "    \"\"\"\n",
    "    Appends the data into the file\n",
    "    :param data: Data to be appended (new record)\n",
    "    \"\"\"\n",
    "    with open(FILE_PATH, 'a') as file:\n",
    "        wf = csv.writer(file, quoting=csv.QUOTE_ALL)\n",
    "        wf.writerow(data)"
   ]
  },
  {
   "cell_type": "code",
   "execution_count": 6,
   "metadata": {},
   "outputs": [],
   "source": [
    "def clear_file():\n",
    "    \"\"\"\n",
    "    Deletes the old file\n",
    "    \"\"\"\n",
    "    # Basic OS handling in case the file is missing\n",
    "    try:\n",
    "        os.remove(FILE_PATH)\n",
    "    except OSError:\n",
    "        pass"
   ]
  },
  {
   "cell_type": "code",
   "execution_count": 7,
   "metadata": {},
   "outputs": [],
   "source": [
    "def replace_del(data):\n",
    "    \"\"\"\n",
    "    Filters and splits by delimeter, removes empty characters from element\n",
    "    :param data: Row element\n",
    "    \"\"\"\n",
    "    results = [d.strip() for c in [\",\", \"/\"] if c in data for d in data.split(c)]\n",
    "    return results if len(results) > 0 else [data.strip()]"
   ]
  },
  {
   "cell_type": "code",
   "execution_count": 8,
   "metadata": {},
   "outputs": [],
   "source": [
    "def replace_keyword(data):\n",
    "    \"\"\"\n",
    "    If keyword is found it returns a list with sanitized string. Otherwise, it\n",
    "    returns back the initial string.\n",
    "    :param data: Row element\n",
    "    \"\"\"\n",
    "    results = [d.replace(k, \"\").strip() for d in data for k in [\"BTC\", \"USD\"] if k in d]\n",
    "    return results if len(results) > 0 else data"
   ]
  },
  {
   "cell_type": "code",
   "execution_count": 9,
   "metadata": {},
   "outputs": [],
   "source": [
    "def process_record(r):\n",
    "    \"\"\"\n",
    "    Calls the above methods to perform record sanitization and preparation.\n",
    "    :param r: Row data\n",
    "    \"\"\"\n",
    "    return replace_keyword(replace_del(r))"
   ]
  },
  {
   "cell_type": "code",
   "execution_count": 10,
   "metadata": {},
   "outputs": [],
   "source": [
    "def fetch_data():\n",
    "    \"\"\"\n",
    "    Initiates the process of data collection.\n",
    "    \"\"\"\n",
    "    create_file()\n",
    "    \n",
    "    print(\"Process is starting. Extracting Pump & Dump info for the first {} pages.\".format(N_PAGES))\n",
    "    start_time = time.process_time()\n",
    "\n",
    "    for p in range(1, N_PAGES + 1):\n",
    "        perform_request(COIN_URL + str(p))\n",
    "\n",
    "    print(\"Process complete! Data saved in: {}. Time elapsed: {}\".format(FILE_PATH, time.process_time() - start_time))"
   ]
  },
  {
   "cell_type": "code",
   "execution_count": 11,
   "metadata": {},
   "outputs": [],
   "source": [
    "def perform_request(url):\n",
    "    \"\"\"\n",
    "    Performs the scraping of a given URL.\n",
    "    :param url: URL address to be scraped\n",
    "    \"\"\"\n",
    "    print(\"Extracting info from page: {}\".format(url))\n",
    "    request = requests.get(url)\n",
    "    soup = BeautifulSoup(request.text, 'html.parser')\n",
    "\n",
    "    # Replace the <br> tag with comma\n",
    "    for br in soup.find_all(\"br\"):\n",
    "        br.replace_with(\",\")\n",
    "\n",
    "    # Find all the divs that have this class and extract them from source\n",
    "    records = soup.findAll(\"div\", class_=\"arbitrage-row\")\n",
    "\n",
    "    # For each div (record) in list\n",
    "    for r in records:\n",
    "        details = list()\n",
    "\n",
    "        # Name of the coin\n",
    "        details.append(r.find(\"div\", class_=\"col-1\").text.strip())\n",
    "\n",
    "        # Sanitize rest data and append to list\n",
    "        for i in range(2, 6):\n",
    "            for e in process_record(r.find(\"div\", class_=\"col-\" + str(i)).text):\n",
    "                if e is '' or e is None:\n",
    "                    details.append(None)\n",
    "                else:\n",
    "                    details.append(e)\n",
    "    \n",
    "        # Date and time of pump and dump\n",
    "        details.append(process_record(r.find(\"div\", class_=\"timerow\").text.strip())[1])\n",
    "\n",
    "        # Ensures that only records with full details are included into the produced file\n",
    "        if all(v is not None for v in details) and len(details) == 9:\n",
    "            write_file(details)"
   ]
  },
  {
   "cell_type": "code",
   "execution_count": 12,
   "metadata": {},
   "outputs": [
    {
     "name": "stdout",
     "output_type": "stream",
     "text": [
      "Process is starting. Extracting Pump & Dump info for the first 15 pages.\n",
      "Extracting info from page: https://pumpdump.coincheckup.com/page/1\n",
      "Extracting info from page: https://pumpdump.coincheckup.com/page/2\n",
      "Extracting info from page: https://pumpdump.coincheckup.com/page/3\n",
      "Extracting info from page: https://pumpdump.coincheckup.com/page/4\n",
      "Extracting info from page: https://pumpdump.coincheckup.com/page/5\n",
      "Extracting info from page: https://pumpdump.coincheckup.com/page/6\n",
      "Extracting info from page: https://pumpdump.coincheckup.com/page/7\n",
      "Extracting info from page: https://pumpdump.coincheckup.com/page/8\n",
      "Extracting info from page: https://pumpdump.coincheckup.com/page/9\n",
      "Extracting info from page: https://pumpdump.coincheckup.com/page/10\n",
      "Extracting info from page: https://pumpdump.coincheckup.com/page/11\n",
      "Extracting info from page: https://pumpdump.coincheckup.com/page/12\n",
      "Extracting info from page: https://pumpdump.coincheckup.com/page/13\n",
      "Extracting info from page: https://pumpdump.coincheckup.com/page/14\n",
      "Extracting info from page: https://pumpdump.coincheckup.com/page/15\n",
      "Process complete! Data saved in: data.csv. Time elapsed: 1.3569120000000001\n"
     ]
    }
   ],
   "source": [
    "# Initiate the process by calling this method\n",
    "fetch_data()"
   ]
  },
  {
   "cell_type": "code",
   "execution_count": 5,
   "metadata": {},
   "outputs": [
    {
     "data": {
      "text/html": [
       "<div>\n",
       "<style scoped>\n",
       "    .dataframe tbody tr th:only-of-type {\n",
       "        vertical-align: middle;\n",
       "    }\n",
       "\n",
       "    .dataframe tbody tr th {\n",
       "        vertical-align: top;\n",
       "    }\n",
       "\n",
       "    .dataframe thead th {\n",
       "        text-align: right;\n",
       "    }\n",
       "</style>\n",
       "<table border=\"1\" class=\"dataframe\">\n",
       "  <thead>\n",
       "    <tr style=\"text-align: right;\">\n",
       "      <th></th>\n",
       "      <th>Cryptocurrency</th>\n",
       "      <th>Pump % Gain</th>\n",
       "      <th>Timeframe</th>\n",
       "      <th>Start time</th>\n",
       "      <th>Start price: BTC</th>\n",
       "      <th>Start price: USD</th>\n",
       "      <th>End price: BTC</th>\n",
       "      <th>End price: USD</th>\n",
       "      <th>Publishing time (GMT +2)</th>\n",
       "    </tr>\n",
       "  </thead>\n",
       "  <tbody>\n",
       "    <tr>\n",
       "      <th>0</th>\n",
       "      <td>Counterparty</td>\n",
       "      <td>5.056%</td>\n",
       "      <td>5:03 min</td>\n",
       "      <td>8:07 PM</td>\n",
       "      <td>0.000616</td>\n",
       "      <td>$3.87</td>\n",
       "      <td>0.000649</td>\n",
       "      <td>$4.07</td>\n",
       "      <td>2018-08-13 20:12:03</td>\n",
       "    </tr>\n",
       "    <tr>\n",
       "      <th>1</th>\n",
       "      <td>Expanse</td>\n",
       "      <td>5.478%</td>\n",
       "      <td>5:03 min</td>\n",
       "      <td>8:07 PM</td>\n",
       "      <td>0.000081</td>\n",
       "      <td>$0.51</td>\n",
       "      <td>0.000086</td>\n",
       "      <td>$0.54</td>\n",
       "      <td>2018-08-13 20:12:03</td>\n",
       "    </tr>\n",
       "    <tr>\n",
       "      <th>2</th>\n",
       "      <td>Counterparty</td>\n",
       "      <td>5.056%</td>\n",
       "      <td>5:00 min</td>\n",
       "      <td>8:06 PM</td>\n",
       "      <td>0.000616</td>\n",
       "      <td>$3.87</td>\n",
       "      <td>0.000649</td>\n",
       "      <td>$4.07</td>\n",
       "      <td>2018-08-13 20:11:00</td>\n",
       "    </tr>\n",
       "    <tr>\n",
       "      <th>3</th>\n",
       "      <td>Bitcrystals</td>\n",
       "      <td>6.425%</td>\n",
       "      <td>5:00 min</td>\n",
       "      <td>8:06 PM</td>\n",
       "      <td>0.000013</td>\n",
       "      <td>$0.08</td>\n",
       "      <td>0.000014</td>\n",
       "      <td>$0.09</td>\n",
       "      <td>2018-08-13 20:11:00</td>\n",
       "    </tr>\n",
       "    <tr>\n",
       "      <th>4</th>\n",
       "      <td>Bitcrystals</td>\n",
       "      <td>6.425%</td>\n",
       "      <td>5:02 min</td>\n",
       "      <td>8:03 PM</td>\n",
       "      <td>0.000013</td>\n",
       "      <td>$0.08</td>\n",
       "      <td>0.000014</td>\n",
       "      <td>$0.09</td>\n",
       "      <td>2018-08-13 20:08:02</td>\n",
       "    </tr>\n",
       "  </tbody>\n",
       "</table>\n",
       "</div>"
      ],
      "text/plain": [
       "  Cryptocurrency Pump % Gain Timeframe Start time  Start price: BTC  \\\n",
       "0   Counterparty      5.056%  5:03 min    8:07 PM          0.000616   \n",
       "1        Expanse      5.478%  5:03 min    8:07 PM          0.000081   \n",
       "2   Counterparty      5.056%  5:00 min    8:06 PM          0.000616   \n",
       "3    Bitcrystals      6.425%  5:00 min    8:06 PM          0.000013   \n",
       "4    Bitcrystals      6.425%  5:02 min    8:03 PM          0.000013   \n",
       "\n",
       "  Start price: USD  End price: BTC End price: USD Publishing time (GMT +2)  \n",
       "0            $3.87        0.000649          $4.07      2018-08-13 20:12:03  \n",
       "1            $0.51        0.000086          $0.54      2018-08-13 20:12:03  \n",
       "2            $3.87        0.000649          $4.07      2018-08-13 20:11:00  \n",
       "3            $0.08        0.000014          $0.09      2018-08-13 20:11:00  \n",
       "4            $0.08        0.000014          $0.09      2018-08-13 20:08:02  "
      ]
     },
     "execution_count": 5,
     "metadata": {},
     "output_type": "execute_result"
    }
   ],
   "source": [
    "# Visualize the data to see that everything worked fine\n",
    "df = pd.read_csv(FILE_PATH)\n",
    "df.head()"
   ]
  },
  {
   "cell_type": "code",
   "execution_count": null,
   "metadata": {},
   "outputs": [],
   "source": []
  }
 ],
 "metadata": {
  "kernelspec": {
   "display_name": "Python 3",
   "language": "python",
   "name": "python3"
  },
  "language_info": {
   "codemirror_mode": {
    "name": "ipython",
    "version": 3
   },
   "file_extension": ".py",
   "mimetype": "text/x-python",
   "name": "python",
   "nbconvert_exporter": "python",
   "pygments_lexer": "ipython3",
   "version": "3.6.4"
  }
 },
 "nbformat": 4,
 "nbformat_minor": 2
}
